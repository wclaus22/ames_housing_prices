{
 "cells": [
  {
   "cell_type": "markdown",
   "metadata": {},
   "source": [
    "## Implementation and Visualization of Different Regression Methods\n",
    "\n",
    "Using the ames housing dataset from kaggle"
   ]
  },
  {
   "cell_type": "markdown",
   "metadata": {},
   "source": [
    "__Ridge Regression__"
   ]
  },
  {
   "cell_type": "code",
   "execution_count": 1,
   "metadata": {
    "scrolled": false
   },
   "outputs": [
    {
     "name": "stdout",
     "output_type": "stream",
     "text": [
      "Loading Data ...\n",
      "Data successfully loaded.\n",
      "Commencing 10-fold cross-validation ...\n",
      "Cross Validation Concluded. Avg CV score: \n",
      "  0.046361841163447305 std:  0.005908425731687914\n",
      "Margin of standard variation: 12.74415679665942 %\n",
      "Commencing 10-fold cross-validation ...\n",
      "Cross Validation Concluded. Avg CV score: \n",
      "  0.0437747476091911 std:  0.004549660628797258\n",
      "Margin of standard variation: 10.393345198504342 %\n",
      "Commencing 10-fold cross-validation ...\n",
      "Cross Validation Concluded. Avg CV score: \n",
      "  0.041461924231846324 std:  0.004393374873896453\n",
      "Margin of standard variation: 10.596167339773302 %\n",
      "Commencing 10-fold cross-validation ...\n",
      "Cross Validation Concluded. Avg CV score: \n",
      "  0.042101788282706366 std:  0.0045875625777276035\n",
      "Margin of standard variation: 10.896360380045852 %\n",
      "Commencing 10-fold cross-validation ...\n",
      "Cross Validation Concluded. Avg CV score: \n",
      "  0.04491368056490287 std:  0.0033153913981824297\n",
      "Margin of standard variation: 7.381696081200687 %\n"
     ]
    }
   ],
   "source": [
    "# import implemented regression baselines\n",
    "from code.models import RidgeRegression\n",
    "import numpy as np\n",
    "import pandas as pd\n",
    "import matplotlib.pyplot as plt\n",
    "import warnings\n",
    "warnings.filterwarnings('ignore')\n",
    "\n",
    "config = {\"path\": \"data\",\n",
    "          \"seed\": 42,\n",
    "          \"n_folds\": 10,\n",
    "          \"cv_metric\": \"root_mean_squared_log_error\",\n",
    "         }\n",
    "\n",
    "model = RidgeRegression(config)\n",
    "means = []\n",
    "stds = []\n",
    "alphas = [0.1, 1, 10, 100, 1000]\n",
    "for alpha in alphas:\n",
    "    model.cross_validate(alpha=alpha)\n",
    "    mean = np.mean(model.m_cv_scores)\n",
    "    std = np.std(model.m_cv_scores)\n",
    "    means.append(mean)\n",
    "    stds.append(std)"
   ]
  },
  {
   "cell_type": "code",
   "execution_count": 8,
   "metadata": {},
   "outputs": [
    {
     "data": {
      "image/png": "[encoded data removed]",
      "text/plain": [
       "<Figure size 1080x720 with 1 Axes>"
      ]
     },
     "metadata": {
      "needs_background": "light"
     },
     "output_type": "display_data"
    }
   ],
   "source": [
    "x = np.arange(len(alphas))\n",
    "plt.figure(figsize=(15,10))\n",
    "plt.bar(x, means, yerr=stds)\n",
    "plt.title(\"Ridge Regression Crossval Scores\")\n",
    "plt.xticks(x, alphas)\n",
    "plt.xlabel(\"Regularization Strength\")\n",
    "plt.ylabel(\"Avg. Log-RMSE CV score\")\n",
    "plt.grid(alpha=0.5)\n",
    "plt.show()"
   ]
  },
  {
   "cell_type": "code",
   "execution_count": 7,
   "metadata": {},
   "outputs": [
    {
     "name": "stdout",
     "output_type": "stream",
     "text": [
      "        Id      SalePrice\n",
      "1461  1461   71724.823543\n",
      "1462  1462  121475.914543\n",
      "1463  1463  154203.599531\n",
      "1464  1464  143193.600344\n",
      "1465  1465  143870.678295\n"
     ]
    }
   ],
   "source": [
    "X = model.m_X.copy().drop(index=model.outlier_indices)\n",
    "y = model.m_y.drop(index=model.outlier_indices)\n",
    "\n",
    "X_test = pd.read_csv(\"data/test.csv\")\n",
    "X_test = model.impute_and_encode(X_test)\n",
    "\n",
    "model.standardize(X, X_test)\n",
    "\n",
    "model.train(X, y, alpha=10)\n",
    "y_test = model.predict(X_test)\n",
    "submit = pd.DataFrame(y_test, columns=[\"SalePrice\"]).set_index(np.arange(1461, 1461+len(y_test)))#.to_csv(\"data/submission.csv\")\n",
    "submit[\"Id\"] = submit.index\n",
    "submit = submit[[\"Id\", \"SalePrice\"]]\n",
    "print(submit.head())\n",
    "submit.to_csv(\"data/submission.csv\", index=False)"
   ]
  }
 ],
 "metadata": {
  "kernelspec": {
   "display_name": "ames_housing_prices",
   "language": "python",
   "name": "ames_housing_prices"
  },
  "language_info": {
   "codemirror_mode": {
    "name": "ipython",
    "version": 3
   },
   "file_extension": ".py",
   "mimetype": "text/x-python",
   "name": "python",
   "nbconvert_exporter": "python",
   "pygments_lexer": "ipython3",
   "version": "3.7.5"
  }
 },
 "nbformat": 4,
 "nbformat_minor": 2
}
